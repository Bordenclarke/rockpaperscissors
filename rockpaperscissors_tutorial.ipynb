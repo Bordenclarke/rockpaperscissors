{
 "cells": [
  {
   "cell_type": "markdown",
   "metadata": {},
   "source": [
    "# Making a _Rock, Paper, Scissors_ Game in Python\n",
    "\n",
    "## A guide to a simple python program, for beginners."
   ]
  },
  {
   "cell_type": "markdown",
   "metadata": {},
   "source": [
    "The best way to learn programming is to program, and the best way to do that, for a beginner at least, is to program things from your everyday life.\n",
    "\n",
    "In this short tutorial, I will explain how I made a simple _rock, paper, scissors_ game in Python, and through it you will learn how to use the following:\n",
    "\n",
    "* The __print__ function.\n",
    "* Printing __line breaks__.\n",
    "* How to take an __input__ and assign __variables__.\n",
    "* Using __if, elif and else__ statements.\n",
    "* Assigning __boolean__ statements.\n",
    "* How to stop a program terminating as soon as its code has executed."
   ]
  },
  {
   "cell_type": "markdown",
   "metadata": {},
   "source": [
    "Before we begin, if you are yet to install python, or are yet to understand the basics of using python within an IDE (Intergrated Development Envrionment) like IDLE, I would recommend the first chapter of Al Sweigart's _Automate the Boring Stuff with Python_ :\n",
    "\n",
    "https://automatetheboringstuff.com/chapter0/"
   ]
  },
  {
   "cell_type": "markdown",
   "metadata": {},
   "source": [
    "### Step 1: Printing a Title and Creating Options\n",
    "\n",
    "To begin, we want our game to be user-friendly, so we should print a title that makes our program nice and clear.\n",
    "\n",
    "You can use the print function as below, you can see that the code below prints the message inside the brackets to the screen."
   ]
  },
  {
   "cell_type": "code",
   "execution_count": 1,
   "metadata": {},
   "outputs": [
    {
     "name": "stdout",
     "output_type": "stream",
     "text": [
      "This is: Rock, Paper, Scissors!\n"
     ]
    }
   ],
   "source": [
    "print(\"This is: Rock, Paper, Scissors!\")"
   ]
  },
  {
   "cell_type": "markdown",
   "metadata": {},
   "source": [
    "If you want, however, you could be a little more fancy with it. In my header, I used words on both https://asciiart.eu and https://ascii.co.uk to make an elaborate ascii art title. Here is an example, which uses extra quotations in the __print__ method to print more than one line:\n",
    "\n",
    "```python\n",
    "print(\n",
    "\"\"\"            \n",
    "                _      \n",
    "               | |                                            (_)\n",
    " _ __ ___   ___| | __   _ __   __ _ _ __   ___ _ __   ___  ___ _ ___ ___  ___  _ __ ___ \n",
    "| '__/ _ \\ / __| |/ /  | '_ \\ / _` | '_ \\ / _ \\ '__| / __|/ __| / __/ __|/ _ \\| '__/ __|\n",
    "| | | (_) | (__|   <   | |_) | (_| | |_) |  __/ |    \\__ \\ (__| \\__ \\__ \\ (_) | |  \\__ /\n",
    "|_|  \\___/ \\___|_|\\_\\, | .__/ \\__,_| .__/ \\___|_|,   |___/\\___|_|___/___/\\___/|_|  |___/.\n",
    "                       | |         | |\n",
    "                       |_|         |_|\n",
    "\"\"\")\n",
    "```"
   ]
  },
  {
   "cell_type": "markdown",
   "metadata": {},
   "source": [
    "As you can see, using triple-quotation marks in your __print__ method allows you to print multiple lines of text. Now our title is complete! \n",
    "\n",
    "Now we need to go ahead and set some __variables__ for our choices. A __variable__ is an object defined by you which stores a piece of information. In this case, the information is going to be an ascii image of each choice, but it could equally be just a string of the name itself."
   ]
  },
  {
   "cell_type": "code",
   "execution_count": 2,
   "metadata": {},
   "outputs": [],
   "source": [
    "rock = (\n",
    "\"\"\"\n",
    "    _______\n",
    "---'   ____)\n",
    "      (_____)\n",
    "      (_____)\n",
    "      (____)\n",
    "---.__(___)\n",
    "\"\"\")\n",
    "\n",
    "paper = (\"\"\"\n",
    "    _______\n",
    "---'   ____)____\n",
    "          ______)\n",
    "          _______)\n",
    "         _______)\n",
    "---.__________)\n",
    "\"\"\")\n",
    "\n",
    "scissors = (\"\"\"\n",
    "    _______\n",
    "---'   ____)____\n",
    "          ______)\n",
    "       __________)\n",
    "      (____)\n",
    "---.__(___)\n",
    "\"\"\")"
   ]
  },
  {
   "cell_type": "markdown",
   "metadata": {},
   "source": [
    "Above you can see that three __variables__, one for each possible choice, have been determined. Later in our program, we will match the input of the user to one of these variables, and use it to determine the outcome of the game."
   ]
  },
  {
   "cell_type": "markdown",
   "metadata": {},
   "source": [
    "### Step 2: Taking an Input and Creating a Computer Input\n",
    "\n",
    "In python, we can use an __input__ to ask the user for some kind of entry which we can then use later in our code. In this program, we are going to need to ask our user to choose either rock, paper, or scissors.\n",
    "\n",
    "We can format our __input__ like this:\n",
    "\n",
    "```python\n",
    "input(\"What do you choose? \")\n",
    "```\n",
    "This will print the statement inside of the __input__ function to the screen, and will prompt the user to input text immediately after the quote. The user's input will be taken on as a __string__, which we can store in a variable named __player_input__. This variable will then be edited with the function __.lower()__, in another variable named __choice__. This will convert the user's entry into lower case, the reason for which will become clear later."
   ]
  },
  {
   "cell_type": "code",
   "execution_count": 3,
   "metadata": {},
   "outputs": [
    {
     "name": "stdout",
     "output_type": "stream",
     "text": [
      "What do you choose? rock\n"
     ]
    }
   ],
   "source": [
    "player_input = input(\"What do you choose? \")\n",
    "choice = player_input.lower()"
   ]
  },
  {
   "cell_type": "markdown",
   "metadata": {},
   "source": [
    "Go ahead and ignore that input box for now.\n",
    "\n",
    "Next we are going to use that user input and print out one of the three ascii images that make up the variables. Here we are beginning to use __if, elif and else__ statements. In this case, if the __variable__ \"choice\" is equivalent to the __string__ \"rock\", then the rock image is printed, if the choice was \"paper\" then the same happens with the paper image. To save some precious code we use __else__ for the only other option \"scissors\", because we know that any option that isn't one of those two must be scissors. [This system could be made more fool-proof with a While loop, feel free to look at my finished code on GitHub for an example of that.]\n",
    "\n",
    "This is also where the __.lower()__ method comes in handy. If the user input is converted to lower case, it means we don't have to add more code to accomodate for upper case entries."
   ]
  },
  {
   "cell_type": "code",
   "execution_count": 4,
   "metadata": {},
   "outputs": [
    {
     "name": "stdout",
     "output_type": "stream",
     "text": [
      "\n",
      "    _______\n",
      "---'   ____)\n",
      "      (_____)\n",
      "      (_____)\n",
      "      (____)\n",
      "---.__(___)\n",
      "\n"
     ]
    }
   ],
   "source": [
    "if choice == \"rock\":\n",
    "    print(rock)\n",
    "elif choice == \"paper\":\n",
    "    print(paper)\n",
    "else:\n",
    "    print(scissors)"
   ]
  },
  {
   "cell_type": "markdown",
   "metadata": {},
   "source": [
    "The user has now made their choice, and this will be printed out onto the screen. Now it's time for the computer to do the same thing. For this we will be using the __random__ module, import the random module as follows:\n",
    "\n",
    "[This should usually be done at the top of your program, and it is much better for you to do so. It is only for the purpose of this tutorial that it has been imported now.]"
   ]
  },
  {
   "cell_type": "code",
   "execution_count": 5,
   "metadata": {},
   "outputs": [],
   "source": [
    "import random"
   ]
  },
  {
   "cell_type": "markdown",
   "metadata": {},
   "source": [
    "The next two steps require the computer to make a random choice out of one of three options, and then our program to take that choice and print out the corresponding image. To do this, we will make use of the __random.randint__ method."
   ]
  },
  {
   "cell_type": "code",
   "execution_count": 6,
   "metadata": {},
   "outputs": [],
   "source": [
    "computer_choice = random.randint(1,3)"
   ]
  },
  {
   "cell_type": "markdown",
   "metadata": {},
   "source": [
    "The __random.randint__ method takes two __arguments__ here, which constiture a range between the first number and the second. The program chooses a random __int__, or whole number, and stores it in the __\"computer_choice\" variable__.\n",
    "\n",
    "Finally, we can use a similar code to print out the images as we did with the user. This time, however, we will need to substitute the names for numbers."
   ]
  },
  {
   "cell_type": "code",
   "execution_count": 7,
   "metadata": {},
   "outputs": [
    {
     "name": "stdout",
     "output_type": "stream",
     "text": [
      "\n",
      "    _______\n",
      "---'   ____)____\n",
      "          ______)\n",
      "          _______)\n",
      "         _______)\n",
      "---.__________)\n",
      "\n"
     ]
    }
   ],
   "source": [
    "if computer_choice == 1:\n",
    "    print(rock)\n",
    "elif computer_choice == 2:\n",
    "    print(paper)\n",
    "else:\n",
    "    print(scissors)"
   ]
  },
  {
   "cell_type": "markdown",
   "metadata": {},
   "source": [
    "### Step 3: Determine the Result and Print the Outcome\n",
    "\n",
    "Now the __if, elif and else__ statements are going to get a little crazy, because now we have to work out who has won, and print that result out to the console. This works much the same as the last __if__ statement we used, but this time we are going to compare the user input directly to the computer's randomised choice."
   ]
  },
  {
   "cell_type": "code",
   "execution_count": 8,
   "metadata": {},
   "outputs": [
    {
     "name": "stdout",
     "output_type": "stream",
     "text": [
      "YOU LOSE!\n",
      "\n",
      "\n"
     ]
    }
   ],
   "source": [
    "if (choice == \"rock\") and (computer_choice == 1):\n",
    "    print(\"IT'S A DRAW!\")\n",
    "elif (choice == \"paper\") and (computer_choice == 2):\n",
    "    print(\"IT'S A DRAW!\")\n",
    "elif (choice == \"scissors\") and (computer_choice == 3):\n",
    "    print(\"IT'S A DRAW!\")\n",
    "elif (choice == \"rock\") and (computer_choice == 3):\n",
    "    print(\"YOU WIN!\")\n",
    "elif (choice == \"rock\") and (computer_choice == 2):\n",
    "    print(\"YOU LOSE!\")\n",
    "elif (choice == \"paper\") and (computer_choice == 1):\n",
    "    print(\"YOU WIN!\")\n",
    "elif (choice == \"paper\") and (computer_choice == 3):\n",
    "    print(\"YOU LOSE!\")\n",
    "elif (choice == \"scissors\") and (computer_choice == 2):\n",
    "    print(\"YOU WIN!\")\n",
    "else:\n",
    "    print(\"YOU LOSE!\")\n",
    "print(\"\\n\")"
   ]
  },
  {
   "cell_type": "markdown",
   "metadata": {},
   "source": [
    "Each statement checks each possible condition of the rock, paper, scissors match, and prints out the correct response for each option. The final __else__ statement saves a little code by cutting off the possibility of the user choosing scissors and the computer choosing rock, which would be the only possible alternative.\n",
    "\n",
    "At the end of the this code, we could print a break with __\\n__, which will help seperate from our final code, which will look like this:\n",
    "\n",
    "```python\n",
    "print(\"Thank you for playing!\")\n",
    "print(\"\\n\")\n",
    "input(\"Press ENTER to exit\")\n",
    "```\n",
    "\n",
    "These final lines give out a final statement, but also stop the program shutting down immediately after it has been opened. In IDLE, or any other IDE you use this will not be the case, but if you double-click your program straight from windows explorer you'll find that the window closes as soon as you enter your input. Using the __input__ method outlined above solves this problem, and allows the user to shut down the program when they wish to."
   ]
  },
  {
   "cell_type": "markdown",
   "metadata": {},
   "source": [
    "## That's it!\n",
    "\n",
    "Thanks for reading, and now you are done, go back and enter the code yourself to see how it plays out!"
   ]
  }
 ],
 "metadata": {
  "kernelspec": {
   "display_name": "Python 3",
   "language": "python",
   "name": "python3"
  },
  "language_info": {
   "codemirror_mode": {
    "name": "ipython",
    "version": 3
   },
   "file_extension": ".py",
   "mimetype": "text/x-python",
   "name": "python",
   "nbconvert_exporter": "python",
   "pygments_lexer": "ipython3",
   "version": "3.7.4"
  }
 },
 "nbformat": 4,
 "nbformat_minor": 2
}
